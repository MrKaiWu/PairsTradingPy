{
 "cells": [
  {
   "cell_type": "code",
   "execution_count": 1,
   "metadata": {},
   "outputs": [],
   "source": [
    "import numpy as np\n",
    "from PairsTradingPy import DataLoader, Pair, PairFilter, PairBacktesting\n",
    "from PairsTradingPy.utils import frequency_convert"
   ]
  },
  {
   "cell_type": "markdown",
   "metadata": {},
   "source": [
    "### DataLoader\n",
    "\n",
    "**A foundational data pipeline**"
   ]
  },
  {
   "cell_type": "markdown",
   "metadata": {},
   "source": [
    "*1. Overview*"
   ]
  },
  {
   "cell_type": "code",
   "execution_count": 2,
   "metadata": {},
   "outputs": [],
   "source": [
    "DATA = DataLoader()"
   ]
  },
  {
   "cell_type": "code",
   "execution_count": 3,
   "metadata": {},
   "outputs": [
    {
     "data": {
      "text/plain": [
       "number of IDs: 7671\n",
       "number of days: 4882, from 2001-01-02 to 2020-05-29\n",
       "10 raw dataset(s) of shape (7671, 4882):\n",
       "['CUM_DIV', 'IN_US_1', 'PRCCD', 'QES_GSECTOR', 'GGROUP', 'GIND', 'GSUBIND', 'RTN', 'FRTN1P', 'CUM_WEALTH']\n",
       "return DataFrame by default"
      ]
     },
     "execution_count": 3,
     "metadata": {},
     "output_type": "execute_result"
    }
   ],
   "source": [
    "DATA"
   ]
  },
  {
   "cell_type": "markdown",
   "metadata": {},
   "source": [
    "*2. Indexing*"
   ]
  },
  {
   "cell_type": "code",
   "execution_count": 6,
   "metadata": {},
   "outputs": [
    {
     "data": {
      "text/html": [
       "<div>\n",
       "<style scoped>\n",
       "    .dataframe tbody tr th:only-of-type {\n",
       "        vertical-align: middle;\n",
       "    }\n",
       "\n",
       "    .dataframe tbody tr th {\n",
       "        vertical-align: top;\n",
       "    }\n",
       "\n",
       "    .dataframe thead th {\n",
       "        text-align: right;\n",
       "    }\n",
       "</style>\n",
       "<table border=\"1\" class=\"dataframe\">\n",
       "  <thead>\n",
       "    <tr style=\"text-align: right;\">\n",
       "      <th></th>\n",
       "      <th>2001-01-02</th>\n",
       "      <th>2001-01-03</th>\n",
       "      <th>2001-01-04</th>\n",
       "      <th>2001-01-05</th>\n",
       "      <th>2001-01-08</th>\n",
       "      <th>2001-01-09</th>\n",
       "      <th>2001-01-10</th>\n",
       "      <th>2001-01-11</th>\n",
       "      <th>2001-01-12</th>\n",
       "      <th>2001-01-16</th>\n",
       "      <th>...</th>\n",
       "      <th>2020-05-15</th>\n",
       "      <th>2020-05-18</th>\n",
       "      <th>2020-05-19</th>\n",
       "      <th>2020-05-20</th>\n",
       "      <th>2020-05-21</th>\n",
       "      <th>2020-05-22</th>\n",
       "      <th>2020-05-26</th>\n",
       "      <th>2020-05-27</th>\n",
       "      <th>2020-05-28</th>\n",
       "      <th>2020-05-29</th>\n",
       "    </tr>\n",
       "  </thead>\n",
       "  <tbody>\n",
       "    <tr>\n",
       "      <th>001004.01</th>\n",
       "      <td>12.312500</td>\n",
       "      <td>12.312500</td>\n",
       "      <td>12.500000</td>\n",
       "      <td>11.937500</td>\n",
       "      <td>11.750000</td>\n",
       "      <td>12.125000</td>\n",
       "      <td>12.187500</td>\n",
       "      <td>12.250000</td>\n",
       "      <td>13.250000</td>\n",
       "      <td>14.500000</td>\n",
       "      <td>...</td>\n",
       "      <td>15.24</td>\n",
       "      <td>17.65</td>\n",
       "      <td>17.129999</td>\n",
       "      <td>17.76</td>\n",
       "      <td>17.940001</td>\n",
       "      <td>17.92</td>\n",
       "      <td>19.26</td>\n",
       "      <td>21.27</td>\n",
       "      <td>20.74</td>\n",
       "      <td>20.17</td>\n",
       "    </tr>\n",
       "    <tr>\n",
       "      <th>001013.01</th>\n",
       "      <td>109.375031</td>\n",
       "      <td>141.750046</td>\n",
       "      <td>131.687546</td>\n",
       "      <td>119.000038</td>\n",
       "      <td>119.000038</td>\n",
       "      <td>112.437531</td>\n",
       "      <td>121.187538</td>\n",
       "      <td>131.687546</td>\n",
       "      <td>126.875038</td>\n",
       "      <td>120.312538</td>\n",
       "      <td>...</td>\n",
       "      <td>12.74</td>\n",
       "      <td>12.74</td>\n",
       "      <td>12.740000</td>\n",
       "      <td>12.74</td>\n",
       "      <td>12.740000</td>\n",
       "      <td>12.74</td>\n",
       "      <td>12.74</td>\n",
       "      <td>12.74</td>\n",
       "      <td>12.74</td>\n",
       "      <td>12.74</td>\n",
       "    </tr>\n",
       "    <tr>\n",
       "      <th>001034.01</th>\n",
       "      <td>41.750000</td>\n",
       "      <td>40.937500</td>\n",
       "      <td>36.750000</td>\n",
       "      <td>35.125000</td>\n",
       "      <td>34.125000</td>\n",
       "      <td>33.375000</td>\n",
       "      <td>32.625000</td>\n",
       "      <td>32.625000</td>\n",
       "      <td>35.062500</td>\n",
       "      <td>35.750000</td>\n",
       "      <td>...</td>\n",
       "      <td>NaN</td>\n",
       "      <td>NaN</td>\n",
       "      <td>NaN</td>\n",
       "      <td>NaN</td>\n",
       "      <td>NaN</td>\n",
       "      <td>NaN</td>\n",
       "      <td>NaN</td>\n",
       "      <td>NaN</td>\n",
       "      <td>NaN</td>\n",
       "      <td>NaN</td>\n",
       "    </tr>\n",
       "    <tr>\n",
       "      <th>001038.01</th>\n",
       "      <td>3.000000</td>\n",
       "      <td>3.125000</td>\n",
       "      <td>2.937500</td>\n",
       "      <td>3.062500</td>\n",
       "      <td>3.625000</td>\n",
       "      <td>4.187500</td>\n",
       "      <td>4.000000</td>\n",
       "      <td>4.125000</td>\n",
       "      <td>4.187500</td>\n",
       "      <td>4.312500</td>\n",
       "      <td>...</td>\n",
       "      <td>NaN</td>\n",
       "      <td>NaN</td>\n",
       "      <td>NaN</td>\n",
       "      <td>NaN</td>\n",
       "      <td>NaN</td>\n",
       "      <td>NaN</td>\n",
       "      <td>NaN</td>\n",
       "      <td>NaN</td>\n",
       "      <td>NaN</td>\n",
       "      <td>NaN</td>\n",
       "    </tr>\n",
       "    <tr>\n",
       "      <th>001045.01</th>\n",
       "      <td>38.687500</td>\n",
       "      <td>41.625000</td>\n",
       "      <td>43.062500</td>\n",
       "      <td>43.750000</td>\n",
       "      <td>41.500000</td>\n",
       "      <td>38.937500</td>\n",
       "      <td>38.687500</td>\n",
       "      <td>38.437500</td>\n",
       "      <td>36.812500</td>\n",
       "      <td>37.687500</td>\n",
       "      <td>...</td>\n",
       "      <td>11.39</td>\n",
       "      <td>11.39</td>\n",
       "      <td>11.390000</td>\n",
       "      <td>11.39</td>\n",
       "      <td>11.390000</td>\n",
       "      <td>11.39</td>\n",
       "      <td>11.39</td>\n",
       "      <td>11.39</td>\n",
       "      <td>11.39</td>\n",
       "      <td>11.39</td>\n",
       "    </tr>\n",
       "  </tbody>\n",
       "</table>\n",
       "<p>5 rows × 4882 columns</p>\n",
       "</div>"
      ],
      "text/plain": [
       "           2001-01-02  2001-01-03  2001-01-04  2001-01-05  2001-01-08  \\\n",
       "001004.01   12.312500   12.312500   12.500000   11.937500   11.750000   \n",
       "001013.01  109.375031  141.750046  131.687546  119.000038  119.000038   \n",
       "001034.01   41.750000   40.937500   36.750000   35.125000   34.125000   \n",
       "001038.01    3.000000    3.125000    2.937500    3.062500    3.625000   \n",
       "001045.01   38.687500   41.625000   43.062500   43.750000   41.500000   \n",
       "\n",
       "           2001-01-09  2001-01-10  2001-01-11  2001-01-12  2001-01-16  ...  \\\n",
       "001004.01   12.125000   12.187500   12.250000   13.250000   14.500000  ...   \n",
       "001013.01  112.437531  121.187538  131.687546  126.875038  120.312538  ...   \n",
       "001034.01   33.375000   32.625000   32.625000   35.062500   35.750000  ...   \n",
       "001038.01    4.187500    4.000000    4.125000    4.187500    4.312500  ...   \n",
       "001045.01   38.937500   38.687500   38.437500   36.812500   37.687500  ...   \n",
       "\n",
       "           2020-05-15  2020-05-18  2020-05-19  2020-05-20  2020-05-21  \\\n",
       "001004.01       15.24       17.65   17.129999       17.76   17.940001   \n",
       "001013.01       12.74       12.74   12.740000       12.74   12.740000   \n",
       "001034.01         NaN         NaN         NaN         NaN         NaN   \n",
       "001038.01         NaN         NaN         NaN         NaN         NaN   \n",
       "001045.01       11.39       11.39   11.390000       11.39   11.390000   \n",
       "\n",
       "           2020-05-22  2020-05-26  2020-05-27  2020-05-28  2020-05-29  \n",
       "001004.01       17.92       19.26       21.27       20.74       20.17  \n",
       "001013.01       12.74       12.74       12.74       12.74       12.74  \n",
       "001034.01         NaN         NaN         NaN         NaN         NaN  \n",
       "001038.01         NaN         NaN         NaN         NaN         NaN  \n",
       "001045.01       11.39       11.39       11.39       11.39       11.39  \n",
       "\n",
       "[5 rows x 4882 columns]"
      ]
     },
     "execution_count": 6,
     "metadata": {},
     "output_type": "execute_result"
    }
   ],
   "source": [
    "# adjusted price data\n",
    "DATA['PRCCD'].head()"
   ]
  },
  {
   "cell_type": "code",
   "execution_count": 7,
   "metadata": {},
   "outputs": [
    {
     "data": {
      "text/html": [
       "<div>\n",
       "<style scoped>\n",
       "    .dataframe tbody tr th:only-of-type {\n",
       "        vertical-align: middle;\n",
       "    }\n",
       "\n",
       "    .dataframe tbody tr th {\n",
       "        vertical-align: top;\n",
       "    }\n",
       "\n",
       "    .dataframe thead th {\n",
       "        text-align: right;\n",
       "    }\n",
       "</style>\n",
       "<table border=\"1\" class=\"dataframe\">\n",
       "  <thead>\n",
       "    <tr style=\"text-align: right;\">\n",
       "      <th></th>\n",
       "      <th>2001-01-02</th>\n",
       "      <th>2001-01-03</th>\n",
       "      <th>2001-01-04</th>\n",
       "      <th>2001-01-05</th>\n",
       "      <th>2001-01-08</th>\n",
       "      <th>2001-01-09</th>\n",
       "      <th>2001-01-10</th>\n",
       "      <th>2001-01-11</th>\n",
       "      <th>2001-01-12</th>\n",
       "      <th>2001-01-16</th>\n",
       "      <th>...</th>\n",
       "      <th>2020-05-15</th>\n",
       "      <th>2020-05-18</th>\n",
       "      <th>2020-05-19</th>\n",
       "      <th>2020-05-20</th>\n",
       "      <th>2020-05-21</th>\n",
       "      <th>2020-05-22</th>\n",
       "      <th>2020-05-26</th>\n",
       "      <th>2020-05-27</th>\n",
       "      <th>2020-05-28</th>\n",
       "      <th>2020-05-29</th>\n",
       "    </tr>\n",
       "  </thead>\n",
       "  <tbody>\n",
       "    <tr>\n",
       "      <th>001004.01</th>\n",
       "      <td>12.3125</td>\n",
       "      <td>12.3125</td>\n",
       "      <td>12.5</td>\n",
       "      <td>11.9375</td>\n",
       "      <td>11.75</td>\n",
       "      <td>12.125</td>\n",
       "      <td>12.1875</td>\n",
       "      <td>12.25</td>\n",
       "      <td>13.25</td>\n",
       "      <td>14.5</td>\n",
       "      <td>...</td>\n",
       "      <td>15.24</td>\n",
       "      <td>17.65</td>\n",
       "      <td>17.129999</td>\n",
       "      <td>17.76</td>\n",
       "      <td>17.940001</td>\n",
       "      <td>17.92</td>\n",
       "      <td>19.26</td>\n",
       "      <td>21.27</td>\n",
       "      <td>20.74</td>\n",
       "      <td>20.17</td>\n",
       "    </tr>\n",
       "  </tbody>\n",
       "</table>\n",
       "<p>1 rows × 4882 columns</p>\n",
       "</div>"
      ],
      "text/plain": [
       "           2001-01-02  2001-01-03  2001-01-04  2001-01-05  2001-01-08  \\\n",
       "001004.01     12.3125     12.3125        12.5     11.9375       11.75   \n",
       "\n",
       "           2001-01-09  2001-01-10  2001-01-11  2001-01-12  2001-01-16  ...  \\\n",
       "001004.01      12.125     12.1875       12.25       13.25        14.5  ...   \n",
       "\n",
       "           2020-05-15  2020-05-18  2020-05-19  2020-05-20  2020-05-21  \\\n",
       "001004.01       15.24       17.65   17.129999       17.76   17.940001   \n",
       "\n",
       "           2020-05-22  2020-05-26  2020-05-27  2020-05-28  2020-05-29  \n",
       "001004.01       17.92       19.26       21.27       20.74       20.17  \n",
       "\n",
       "[1 rows x 4882 columns]"
      ]
     },
     "execution_count": 7,
     "metadata": {},
     "output_type": "execute_result"
    }
   ],
   "source": [
    "DATA['PRCCD', '001004.01']"
   ]
  },
  {
   "cell_type": "code",
   "execution_count": 8,
   "metadata": {},
   "outputs": [
    {
     "data": {
      "text/plain": [
       "12.3125"
      ]
     },
     "execution_count": 8,
     "metadata": {},
     "output_type": "execute_result"
    }
   ],
   "source": [
    "DATA['PRCCD', '001004.01', '2001-01-02']"
   ]
  },
  {
   "cell_type": "code",
   "execution_count": 9,
   "metadata": {},
   "outputs": [
    {
     "data": {
      "text/html": [
       "<div>\n",
       "<style scoped>\n",
       "    .dataframe tbody tr th:only-of-type {\n",
       "        vertical-align: middle;\n",
       "    }\n",
       "\n",
       "    .dataframe tbody tr th {\n",
       "        vertical-align: top;\n",
       "    }\n",
       "\n",
       "    .dataframe thead th {\n",
       "        text-align: right;\n",
       "    }\n",
       "</style>\n",
       "<table border=\"1\" class=\"dataframe\">\n",
       "  <thead>\n",
       "    <tr style=\"text-align: right;\">\n",
       "      <th></th>\n",
       "      <th>2001-01-02</th>\n",
       "      <th>2001-01-03</th>\n",
       "      <th>2001-01-04</th>\n",
       "      <th>2001-01-05</th>\n",
       "      <th>2001-01-08</th>\n",
       "    </tr>\n",
       "  </thead>\n",
       "  <tbody>\n",
       "    <tr>\n",
       "      <th>001004.01</th>\n",
       "      <td>12.3125</td>\n",
       "      <td>12.3125</td>\n",
       "      <td>12.5</td>\n",
       "      <td>11.9375</td>\n",
       "      <td>11.75</td>\n",
       "    </tr>\n",
       "  </tbody>\n",
       "</table>\n",
       "</div>"
      ],
      "text/plain": [
       "           2001-01-02  2001-01-03  2001-01-04  2001-01-05  2001-01-08\n",
       "001004.01     12.3125     12.3125        12.5     11.9375       11.75"
      ]
     },
     "execution_count": 9,
     "metadata": {},
     "output_type": "execute_result"
    }
   ],
   "source": [
    "DATA['PRCCD', '001004.01', '2001-01-02':'2001-01-08']"
   ]
  },
  {
   "cell_type": "code",
   "execution_count": 10,
   "metadata": {},
   "outputs": [
    {
     "data": {
      "text/html": [
       "<div>\n",
       "<style scoped>\n",
       "    .dataframe tbody tr th:only-of-type {\n",
       "        vertical-align: middle;\n",
       "    }\n",
       "\n",
       "    .dataframe tbody tr th {\n",
       "        vertical-align: top;\n",
       "    }\n",
       "\n",
       "    .dataframe thead th {\n",
       "        text-align: right;\n",
       "    }\n",
       "</style>\n",
       "<table border=\"1\" class=\"dataframe\">\n",
       "  <thead>\n",
       "    <tr style=\"text-align: right;\">\n",
       "      <th></th>\n",
       "      <th>2001-01-02</th>\n",
       "      <th>2001-01-03</th>\n",
       "      <th>2001-01-04</th>\n",
       "      <th>2001-01-05</th>\n",
       "      <th>2001-01-08</th>\n",
       "    </tr>\n",
       "  </thead>\n",
       "  <tbody>\n",
       "    <tr>\n",
       "      <th>001004.01</th>\n",
       "      <td>12.312500</td>\n",
       "      <td>12.312500</td>\n",
       "      <td>12.500000</td>\n",
       "      <td>11.937500</td>\n",
       "      <td>11.750000</td>\n",
       "    </tr>\n",
       "    <tr>\n",
       "      <th>001013.01</th>\n",
       "      <td>109.375031</td>\n",
       "      <td>141.750046</td>\n",
       "      <td>131.687546</td>\n",
       "      <td>119.000038</td>\n",
       "      <td>119.000038</td>\n",
       "    </tr>\n",
       "    <tr>\n",
       "      <th>001034.01</th>\n",
       "      <td>41.750000</td>\n",
       "      <td>40.937500</td>\n",
       "      <td>36.750000</td>\n",
       "      <td>35.125000</td>\n",
       "      <td>34.125000</td>\n",
       "    </tr>\n",
       "    <tr>\n",
       "      <th>001038.01</th>\n",
       "      <td>3.000000</td>\n",
       "      <td>3.125000</td>\n",
       "      <td>2.937500</td>\n",
       "      <td>3.062500</td>\n",
       "      <td>3.625000</td>\n",
       "    </tr>\n",
       "    <tr>\n",
       "      <th>001045.01</th>\n",
       "      <td>38.687500</td>\n",
       "      <td>41.625000</td>\n",
       "      <td>43.062500</td>\n",
       "      <td>43.750000</td>\n",
       "      <td>41.500000</td>\n",
       "    </tr>\n",
       "  </tbody>\n",
       "</table>\n",
       "</div>"
      ],
      "text/plain": [
       "           2001-01-02  2001-01-03  2001-01-04  2001-01-05  2001-01-08\n",
       "001004.01   12.312500   12.312500   12.500000   11.937500   11.750000\n",
       "001013.01  109.375031  141.750046  131.687546  119.000038  119.000038\n",
       "001034.01   41.750000   40.937500   36.750000   35.125000   34.125000\n",
       "001038.01    3.000000    3.125000    2.937500    3.062500    3.625000\n",
       "001045.01   38.687500   41.625000   43.062500   43.750000   41.500000"
      ]
     },
     "execution_count": 10,
     "metadata": {},
     "output_type": "execute_result"
    }
   ],
   "source": [
    "DATA['PRCCD', :, '2001-01-02':'2001-01-08'].head()"
   ]
  },
  {
   "cell_type": "markdown",
   "metadata": {},
   "source": [
    "*3. Change return type*"
   ]
  },
  {
   "cell_type": "code",
   "execution_count": 11,
   "metadata": {},
   "outputs": [
    {
     "data": {
      "text/plain": [
       "False"
      ]
     },
     "execution_count": 11,
     "metadata": {},
     "output_type": "execute_result"
    }
   ],
   "source": [
    "DATA.return_raw"
   ]
  },
  {
   "cell_type": "code",
   "execution_count": 12,
   "metadata": {},
   "outputs": [],
   "source": [
    "DATA.return_raw = True"
   ]
  },
  {
   "cell_type": "code",
   "execution_count": 13,
   "metadata": {},
   "outputs": [
    {
     "data": {
      "text/plain": [
       "number of IDs: 7671\n",
       "number of days: 4882, from 2001-01-02 to 2020-05-29\n",
       "10 raw dataset(s) of shape (7671, 4882):\n",
       "['CUM_DIV', 'IN_US_1', 'PRCCD', 'QES_GSECTOR', 'GGROUP', 'GIND', 'GSUBIND', 'RTN', 'FRTN1P', 'CUM_WEALTH']\n",
       "return numpy array by default"
      ]
     },
     "execution_count": 13,
     "metadata": {},
     "output_type": "execute_result"
    }
   ],
   "source": [
    "DATA\n",
    "# pay attention to the change indicated by the last line"
   ]
  },
  {
   "cell_type": "code",
   "execution_count": 14,
   "metadata": {},
   "outputs": [
    {
     "data": {
      "text/plain": [
       "array([[ 12.3125 ,  12.3125 ,  12.5    , ...,  21.27   ,  20.74   ,\n",
       "         20.17   ],\n",
       "       [109.37503, 141.75005, 131.68755, ...,  12.74   ,  12.74   ,\n",
       "         12.74   ],\n",
       "       [ 41.75   ,  40.9375 ,  36.75   , ...,       nan,       nan,\n",
       "              nan],\n",
       "       ...,\n",
       "       [      nan,       nan,       nan, ...,  85.92   ,  85.92   ,\n",
       "         85.92   ],\n",
       "       [      nan,       nan,       nan, ..., 281.5    , 284.42   ,\n",
       "        300.095  ],\n",
       "       [      nan,       nan,       nan, ...,  18.5    ,  17.4    ,\n",
       "         17.38   ]], dtype=float32)"
      ]
     },
     "execution_count": 14,
     "metadata": {},
     "output_type": "execute_result"
    }
   ],
   "source": [
    "DATA['PRCCD']"
   ]
  },
  {
   "cell_type": "code",
   "execution_count": 15,
   "metadata": {},
   "outputs": [
    {
     "data": {
      "text/plain": [
       "array([[12.3125, 12.3125, 12.5   , ..., 21.27  , 20.74  , 20.17  ]],\n",
       "      dtype=float32)"
      ]
     },
     "execution_count": 15,
     "metadata": {},
     "output_type": "execute_result"
    }
   ],
   "source": [
    "DATA['PRCCD', '001004.01']"
   ]
  },
  {
   "cell_type": "markdown",
   "metadata": {},
   "source": [
    "*4. Get preprocessed data*"
   ]
  },
  {
   "cell_type": "code",
   "execution_count": 16,
   "metadata": {},
   "outputs": [
    {
     "data": {
      "text/html": [
       "<div>\n",
       "<style scoped>\n",
       "    .dataframe tbody tr th:only-of-type {\n",
       "        vertical-align: middle;\n",
       "    }\n",
       "\n",
       "    .dataframe tbody tr th {\n",
       "        vertical-align: top;\n",
       "    }\n",
       "\n",
       "    .dataframe thead th {\n",
       "        text-align: right;\n",
       "    }\n",
       "</style>\n",
       "<table border=\"1\" class=\"dataframe\">\n",
       "  <thead>\n",
       "    <tr style=\"text-align: right;\">\n",
       "      <th></th>\n",
       "      <th>2001-01-02</th>\n",
       "      <th>2001-01-03</th>\n",
       "      <th>2001-01-04</th>\n",
       "      <th>2001-01-05</th>\n",
       "      <th>2001-01-08</th>\n",
       "      <th>2001-01-09</th>\n",
       "      <th>2001-01-10</th>\n",
       "      <th>2001-01-11</th>\n",
       "      <th>2001-01-12</th>\n",
       "      <th>2001-01-16</th>\n",
       "      <th>...</th>\n",
       "      <th>2020-05-15</th>\n",
       "      <th>2020-05-18</th>\n",
       "      <th>2020-05-19</th>\n",
       "      <th>2020-05-20</th>\n",
       "      <th>2020-05-21</th>\n",
       "      <th>2020-05-22</th>\n",
       "      <th>2020-05-26</th>\n",
       "      <th>2020-05-27</th>\n",
       "      <th>2020-05-28</th>\n",
       "      <th>2020-05-29</th>\n",
       "    </tr>\n",
       "  </thead>\n",
       "  <tbody>\n",
       "    <tr>\n",
       "      <th>0</th>\n",
       "      <td>-0.030155</td>\n",
       "      <td>0.058586</td>\n",
       "      <td>-0.000922</td>\n",
       "      <td>-0.028125</td>\n",
       "      <td>-0.006788</td>\n",
       "      <td>0.009682</td>\n",
       "      <td>0.02848</td>\n",
       "      <td>0.031204</td>\n",
       "      <td>0.017486</td>\n",
       "      <td>0.023562</td>\n",
       "      <td>...</td>\n",
       "      <td>0.013431</td>\n",
       "      <td>0.067748</td>\n",
       "      <td>-0.020032</td>\n",
       "      <td>0.032379</td>\n",
       "      <td>0.001103</td>\n",
       "      <td>0.003938</td>\n",
       "      <td>0.035536</td>\n",
       "      <td>0.033891</td>\n",
       "      <td>-0.021626</td>\n",
       "      <td>-0.007784</td>\n",
       "    </tr>\n",
       "  </tbody>\n",
       "</table>\n",
       "<p>1 rows × 4882 columns</p>\n",
       "</div>"
      ],
      "text/plain": [
       "   2001-01-02  2001-01-03  2001-01-04  2001-01-05  2001-01-08  2001-01-09  \\\n",
       "0   -0.030155    0.058586   -0.000922   -0.028125   -0.006788    0.009682   \n",
       "\n",
       "   2001-01-10  2001-01-11  2001-01-12  2001-01-16  ...  2020-05-15  \\\n",
       "0     0.02848    0.031204    0.017486    0.023562  ...    0.013431   \n",
       "\n",
       "   2020-05-18  2020-05-19  2020-05-20  2020-05-21  2020-05-22  2020-05-26  \\\n",
       "0    0.067748   -0.020032    0.032379    0.001103    0.003938    0.035536   \n",
       "\n",
       "   2020-05-27  2020-05-28  2020-05-29  \n",
       "0    0.033891   -0.021626   -0.007784  \n",
       "\n",
       "[1 rows x 4882 columns]"
      ]
     },
     "execution_count": 16,
     "metadata": {},
     "output_type": "execute_result"
    }
   ],
   "source": [
    "# market equal weighted return\n",
    "DATA.get_processed_data('MKT_RTN_EQUI')"
   ]
  },
  {
   "cell_type": "code",
   "execution_count": 17,
   "metadata": {},
   "outputs": [
    {
     "data": {
      "text/html": [
       "<div>\n",
       "<style scoped>\n",
       "    .dataframe tbody tr th:only-of-type {\n",
       "        vertical-align: middle;\n",
       "    }\n",
       "\n",
       "    .dataframe tbody tr th {\n",
       "        vertical-align: top;\n",
       "    }\n",
       "\n",
       "    .dataframe thead th {\n",
       "        text-align: right;\n",
       "    }\n",
       "</style>\n",
       "<table border=\"1\" class=\"dataframe\">\n",
       "  <thead>\n",
       "    <tr style=\"text-align: right;\">\n",
       "      <th></th>\n",
       "      <th>2001-01-02</th>\n",
       "      <th>2001-01-03</th>\n",
       "      <th>2001-01-04</th>\n",
       "      <th>2001-01-05</th>\n",
       "      <th>2001-01-08</th>\n",
       "      <th>2001-01-09</th>\n",
       "      <th>2001-01-10</th>\n",
       "      <th>2001-01-11</th>\n",
       "      <th>2001-01-12</th>\n",
       "      <th>2001-01-16</th>\n",
       "      <th>...</th>\n",
       "      <th>2020-05-15</th>\n",
       "      <th>2020-05-18</th>\n",
       "      <th>2020-05-19</th>\n",
       "      <th>2020-05-20</th>\n",
       "      <th>2020-05-21</th>\n",
       "      <th>2020-05-22</th>\n",
       "      <th>2020-05-26</th>\n",
       "      <th>2020-05-27</th>\n",
       "      <th>2020-05-28</th>\n",
       "      <th>2020-05-29</th>\n",
       "    </tr>\n",
       "  </thead>\n",
       "  <tbody>\n",
       "    <tr>\n",
       "      <th>001004.01</th>\n",
       "      <td>-0.012254</td>\n",
       "      <td>0.026263</td>\n",
       "      <td>0.012509</td>\n",
       "      <td>-0.012147</td>\n",
       "      <td>-0.009812</td>\n",
       "      <td>0.012686</td>\n",
       "      <td>0.014664</td>\n",
       "      <td>0.010162</td>\n",
       "      <td>0.000009</td>\n",
       "      <td>0.013775</td>\n",
       "      <td>...</td>\n",
       "      <td>2.074898e-03</td>\n",
       "      <td>4.304606e-02</td>\n",
       "      <td>-1.166500e-02</td>\n",
       "      <td>1.344147e-02</td>\n",
       "      <td>5.799794e-03</td>\n",
       "      <td>4.635293e-04</td>\n",
       "      <td>2.627243e-02</td>\n",
       "      <td>2.945791e-02</td>\n",
       "      <td>-3.734023e-03</td>\n",
       "      <td>-7.667016e-03</td>\n",
       "    </tr>\n",
       "    <tr>\n",
       "      <th>001013.01</th>\n",
       "      <td>-0.066926</td>\n",
       "      <td>0.123688</td>\n",
       "      <td>0.002202</td>\n",
       "      <td>-0.065214</td>\n",
       "      <td>-0.022140</td>\n",
       "      <td>0.011318</td>\n",
       "      <td>0.061806</td>\n",
       "      <td>0.104737</td>\n",
       "      <td>0.048085</td>\n",
       "      <td>0.016583</td>\n",
       "      <td>...</td>\n",
       "      <td>2.415521e-01</td>\n",
       "      <td>1.261580e-02</td>\n",
       "      <td>-9.174460e-03</td>\n",
       "      <td>1.897935e-02</td>\n",
       "      <td>-3.427799e-03</td>\n",
       "      <td>8.539075e-03</td>\n",
       "      <td>9.323875e-03</td>\n",
       "      <td>8.385785e-03</td>\n",
       "      <td>-4.026885e-03</td>\n",
       "      <td>4.159006e-03</td>\n",
       "    </tr>\n",
       "    <tr>\n",
       "      <th>001034.01</th>\n",
       "      <td>-0.010210</td>\n",
       "      <td>0.024697</td>\n",
       "      <td>-0.002724</td>\n",
       "      <td>-0.035579</td>\n",
       "      <td>-0.029523</td>\n",
       "      <td>-0.005828</td>\n",
       "      <td>0.024279</td>\n",
       "      <td>0.018278</td>\n",
       "      <td>0.031454</td>\n",
       "      <td>0.053753</td>\n",
       "      <td>...</td>\n",
       "      <td>7.618625e-03</td>\n",
       "      <td>2.805496e-02</td>\n",
       "      <td>1.581695e-02</td>\n",
       "      <td>1.245612e-02</td>\n",
       "      <td>-2.864723e-03</td>\n",
       "      <td>6.285482e-02</td>\n",
       "      <td>9.403113e-03</td>\n",
       "      <td>-2.216690e-03</td>\n",
       "      <td>-4.492973e-03</td>\n",
       "      <td>-1.356889e-02</td>\n",
       "    </tr>\n",
       "    <tr>\n",
       "      <th>001038.01</th>\n",
       "      <td>-0.023228</td>\n",
       "      <td>0.064313</td>\n",
       "      <td>0.039584</td>\n",
       "      <td>-0.022443</td>\n",
       "      <td>-0.013850</td>\n",
       "      <td>0.013114</td>\n",
       "      <td>0.017579</td>\n",
       "      <td>0.035281</td>\n",
       "      <td>0.025525</td>\n",
       "      <td>0.019175</td>\n",
       "      <td>...</td>\n",
       "      <td>-1.599014e-09</td>\n",
       "      <td>-1.599014e-09</td>\n",
       "      <td>-1.599014e-09</td>\n",
       "      <td>-1.599014e-09</td>\n",
       "      <td>-1.599014e-09</td>\n",
       "      <td>-1.599014e-09</td>\n",
       "      <td>-1.599014e-09</td>\n",
       "      <td>-1.599014e-09</td>\n",
       "      <td>-1.599014e-09</td>\n",
       "      <td>-1.599014e-09</td>\n",
       "    </tr>\n",
       "    <tr>\n",
       "      <th>001045.01</th>\n",
       "      <td>-0.001079</td>\n",
       "      <td>0.041274</td>\n",
       "      <td>0.033768</td>\n",
       "      <td>0.002635</td>\n",
       "      <td>0.003798</td>\n",
       "      <td>-0.026464</td>\n",
       "      <td>0.002638</td>\n",
       "      <td>-0.006128</td>\n",
       "      <td>-0.007152</td>\n",
       "      <td>0.004490</td>\n",
       "      <td>...</td>\n",
       "      <td>-9.650721e-03</td>\n",
       "      <td>8.548763e-02</td>\n",
       "      <td>-1.354999e-02</td>\n",
       "      <td>3.013440e-02</td>\n",
       "      <td>1.357568e-02</td>\n",
       "      <td>-8.211148e-03</td>\n",
       "      <td>8.437411e-02</td>\n",
       "      <td>3.401700e-02</td>\n",
       "      <td>-3.480890e-02</td>\n",
       "      <td>-1.206293e-02</td>\n",
       "    </tr>\n",
       "  </tbody>\n",
       "</table>\n",
       "<p>5 rows × 4882 columns</p>\n",
       "</div>"
      ],
      "text/plain": [
       "           2001-01-02  2001-01-03  2001-01-04  2001-01-05  2001-01-08  \\\n",
       "001004.01   -0.012254    0.026263    0.012509   -0.012147   -0.009812   \n",
       "001013.01   -0.066926    0.123688    0.002202   -0.065214   -0.022140   \n",
       "001034.01   -0.010210    0.024697   -0.002724   -0.035579   -0.029523   \n",
       "001038.01   -0.023228    0.064313    0.039584   -0.022443   -0.013850   \n",
       "001045.01   -0.001079    0.041274    0.033768    0.002635    0.003798   \n",
       "\n",
       "           2001-01-09  2001-01-10  2001-01-11  2001-01-12  2001-01-16  ...  \\\n",
       "001004.01    0.012686    0.014664    0.010162    0.000009    0.013775  ...   \n",
       "001013.01    0.011318    0.061806    0.104737    0.048085    0.016583  ...   \n",
       "001034.01   -0.005828    0.024279    0.018278    0.031454    0.053753  ...   \n",
       "001038.01    0.013114    0.017579    0.035281    0.025525    0.019175  ...   \n",
       "001045.01   -0.026464    0.002638   -0.006128   -0.007152    0.004490  ...   \n",
       "\n",
       "             2020-05-15    2020-05-18    2020-05-19    2020-05-20  \\\n",
       "001004.01  2.074898e-03  4.304606e-02 -1.166500e-02  1.344147e-02   \n",
       "001013.01  2.415521e-01  1.261580e-02 -9.174460e-03  1.897935e-02   \n",
       "001034.01  7.618625e-03  2.805496e-02  1.581695e-02  1.245612e-02   \n",
       "001038.01 -1.599014e-09 -1.599014e-09 -1.599014e-09 -1.599014e-09   \n",
       "001045.01 -9.650721e-03  8.548763e-02 -1.354999e-02  3.013440e-02   \n",
       "\n",
       "             2020-05-21    2020-05-22    2020-05-26    2020-05-27  \\\n",
       "001004.01  5.799794e-03  4.635293e-04  2.627243e-02  2.945791e-02   \n",
       "001013.01 -3.427799e-03  8.539075e-03  9.323875e-03  8.385785e-03   \n",
       "001034.01 -2.864723e-03  6.285482e-02  9.403113e-03 -2.216690e-03   \n",
       "001038.01 -1.599014e-09 -1.599014e-09 -1.599014e-09 -1.599014e-09   \n",
       "001045.01  1.357568e-02 -8.211148e-03  8.437411e-02  3.401700e-02   \n",
       "\n",
       "             2020-05-28    2020-05-29  \n",
       "001004.01 -3.734023e-03 -7.667016e-03  \n",
       "001013.01 -4.026885e-03  4.159006e-03  \n",
       "001034.01 -4.492973e-03 -1.356889e-02  \n",
       "001038.01 -1.599014e-09 -1.599014e-09  \n",
       "001045.01 -3.480890e-02 -1.206293e-02  \n",
       "\n",
       "[5 rows x 4882 columns]"
      ]
     },
     "execution_count": 17,
     "metadata": {},
     "output_type": "execute_result"
    }
   ],
   "source": [
    "# industry equal weighted return\n",
    "DATA.get_processed_data('IND_RTN_EQUI').head()"
   ]
  },
  {
   "cell_type": "markdown",
   "metadata": {},
   "source": [
    "### PairFilter\n",
    "\n",
    "**Automatic selection of pairs given filtering conditions**"
   ]
  },
  {
   "cell_type": "markdown",
   "metadata": {},
   "source": [
    "*1. Create a PairFilter instance*"
   ]
  },
  {
   "cell_type": "code",
   "execution_count": 3,
   "metadata": {},
   "outputs": [],
   "source": [
    "pair_filter = PairFilter(DATA)"
   ]
  },
  {
   "cell_type": "markdown",
   "metadata": {},
   "source": [
    "*2. Specify filtering conditions*\n",
    "\n",
    "Specify the selection process in a **chained** fashion before actual computation starts"
   ]
  },
  {
   "cell_type": "code",
   "execution_count": 4,
   "metadata": {},
   "outputs": [],
   "source": [
    "filter_conditions = pair_filter.new_filter()\n",
    "\n",
    "filter_conditions.start()\n",
    "\n",
    "# Only analyze the Financials sector (GICS sector code: 40)\n",
    "filter_conditions.industry_subset(subset=40)\n",
    "\n",
    "# Two companies must be in the same GICS industry (GICS level 3)\n",
    "filter_conditions.same_industry(gics_level=3)\n",
    "\n",
    "# Difference of beta is less and equal to 0.3\n",
    "filter_conditions.beta_diff().less_than(0.3, inclusive=True)\n",
    "\n",
    "# residual return correlation must be among the top 20% percentile within the same industry, cross-sectionally\n",
    "filter_conditions.correlation(corr_type='residual').top(0.2)\n",
    "\n",
    "# Hurst Exponent\n",
    "filter_conditions.hurst().less_than(0.5)\n",
    "\n",
    "# Cointegration Test\n",
    "filter_conditions.coint_Johansen().top(0.1)\n",
    "# filter_conditions.coint_.EG().top(0.1)  # Engle-Granger Cointegration Test\n",
    "\n",
    "# ADF test statistics must be among the top 5% percentile within the same industry, cross-sectionally\n",
    "filter_conditions.ADF().top(0.1)\n",
    "\n",
    "filter_conditions.end()"
   ]
  },
  {
   "cell_type": "markdown",
   "metadata": {},
   "source": [
    "*3. Select Pairs on specific dates*"
   ]
  },
  {
   "cell_type": "code",
   "execution_count": 5,
   "metadata": {
    "scrolled": true
   },
   "outputs": [
    {
     "data": {
      "text/plain": [
       "array(['2018-04-30', '2018-05-31'], dtype=object)"
      ]
     },
     "execution_count": 5,
     "metadata": {},
     "output_type": "execute_result"
    }
   ],
   "source": [
    "dates_ = np.unique(frequency_convert(DATA.dates, 'M'))[-26:-24]\n",
    "dates_"
   ]
  },
  {
   "cell_type": "code",
   "execution_count": 6,
   "metadata": {
    "scrolled": true
   },
   "outputs": [
    {
     "name": "stdout",
     "output_type": "stream",
     "text": [
      "applying \"difference of beta\" condition\n"
     ]
    },
    {
     "name": "stderr",
     "output_type": "stream",
     "text": [
      "2it [00:00, 18.89it/s]\n"
     ]
    },
    {
     "name": "stdout",
     "output_type": "stream",
     "text": [
      "applying \"correlation\" condition\n"
     ]
    },
    {
     "name": "stderr",
     "output_type": "stream",
     "text": [
      "272it [00:13, 19.74it/s]\n",
      "100%|████████████████████████████████████████████████████████████████████████████████████| 2/2 [00:00<00:00, 20.39it/s]\n"
     ]
    },
    {
     "name": "stdout",
     "output_type": "stream",
     "text": [
      "applying \"Hurst Exponent\" condition\n"
     ]
    },
    {
     "name": "stderr",
     "output_type": "stream",
     "text": [
      "100%|████████████████████████████████████████████████████████████████████████████████████| 2/2 [00:31<00:00, 16.23s/it]\n"
     ]
    },
    {
     "name": "stdout",
     "output_type": "stream",
     "text": [
      "applying \"Johansen cointegration test\" condition\n"
     ]
    },
    {
     "name": "stderr",
     "output_type": "stream",
     "text": [
      "100%|████████████████████████████████████████████████████████████████████████████████████| 2/2 [02:42<00:00, 80.56s/it]\n"
     ]
    },
    {
     "name": "stdout",
     "output_type": "stream",
     "text": [
      "applying \"Augmented DF test\" condition\n"
     ]
    },
    {
     "name": "stderr",
     "output_type": "stream",
     "text": [
      "100%|████████████████████████████████████████████████████████████████████████████████████| 2/2 [00:58<00:00, 29.42s/it]\n"
     ]
    },
    {
     "name": "stdout",
     "output_type": "stream",
     "text": [
      "time consumed: 283.85 s\n"
     ]
    }
   ],
   "source": [
    "import time\n",
    "start_time = time.time()\n",
    "pairs_dict = pair_filter.filter_given_dates(dates=dates_)\n",
    "print('time consumed: {} s'.format(round(time.time() - start_time, 2)))"
   ]
  },
  {
   "cell_type": "code",
   "execution_count": 7,
   "metadata": {},
   "outputs": [
    {
     "data": {
      "text/plain": [
       "dict_keys(['2018-04-30', '2018-05-31'])"
      ]
     },
     "execution_count": 7,
     "metadata": {},
     "output_type": "execute_result"
    }
   ],
   "source": [
    "pairs_dict.keys()"
   ]
  },
  {
   "cell_type": "code",
   "execution_count": 8,
   "metadata": {
    "scrolled": true
   },
   "outputs": [
    {
     "data": {
      "text/plain": [
       "96"
      ]
     },
     "execution_count": 8,
     "metadata": {},
     "output_type": "execute_result"
    }
   ],
   "source": [
    "len(pairs_dict['2018-05-31'])"
   ]
  },
  {
   "cell_type": "markdown",
   "metadata": {},
   "source": [
    "*4. Inspect intermediate results / cache*"
   ]
  },
  {
   "cell_type": "code",
   "execution_count": 9,
   "metadata": {},
   "outputs": [
    {
     "data": {
      "text/plain": [
       "dict_keys(['class', 'subset_class', 'beta_diff', 'correlation', 'hurst', 'coint_Johansen', 'ADF'])"
      ]
     },
     "execution_count": 9,
     "metadata": {},
     "output_type": "execute_result"
    }
   ],
   "source": [
    "pair_filter.cache.keys()"
   ]
  },
  {
   "cell_type": "code",
   "execution_count": 10,
   "metadata": {
    "scrolled": true
   },
   "outputs": [
    {
     "data": {
      "text/html": [
       "<div>\n",
       "<style scoped>\n",
       "    .dataframe tbody tr th:only-of-type {\n",
       "        vertical-align: middle;\n",
       "    }\n",
       "\n",
       "    .dataframe tbody tr th {\n",
       "        vertical-align: top;\n",
       "    }\n",
       "\n",
       "    .dataframe thead th {\n",
       "        text-align: right;\n",
       "    }\n",
       "</style>\n",
       "<table border=\"1\" class=\"dataframe\">\n",
       "  <thead>\n",
       "    <tr style=\"text-align: right;\">\n",
       "      <th></th>\n",
       "      <th>A</th>\n",
       "      <th>B</th>\n",
       "      <th>class</th>\n",
       "      <th>score</th>\n",
       "    </tr>\n",
       "  </thead>\n",
       "  <tbody>\n",
       "    <tr>\n",
       "      <th>0</th>\n",
       "      <td>002968.01</td>\n",
       "      <td>004640.01</td>\n",
       "      <td>401010.0</td>\n",
       "      <td>4.404139</td>\n",
       "    </tr>\n",
       "    <tr>\n",
       "      <th>1</th>\n",
       "      <td>003231.01</td>\n",
       "      <td>004674.01</td>\n",
       "      <td>401010.0</td>\n",
       "      <td>3.600538</td>\n",
       "    </tr>\n",
       "    <tr>\n",
       "      <th>2</th>\n",
       "      <td>003231.01</td>\n",
       "      <td>004699.01</td>\n",
       "      <td>401010.0</td>\n",
       "      <td>4.296898</td>\n",
       "    </tr>\n",
       "    <tr>\n",
       "      <th>3</th>\n",
       "      <td>004674.01</td>\n",
       "      <td>004699.01</td>\n",
       "      <td>401010.0</td>\n",
       "      <td>3.396330</td>\n",
       "    </tr>\n",
       "    <tr>\n",
       "      <th>4</th>\n",
       "      <td>004640.01</td>\n",
       "      <td>004723.01</td>\n",
       "      <td>401010.0</td>\n",
       "      <td>3.309330</td>\n",
       "    </tr>\n",
       "    <tr>\n",
       "      <th>5</th>\n",
       "      <td>003243.01</td>\n",
       "      <td>004737.01</td>\n",
       "      <td>401010.0</td>\n",
       "      <td>3.597521</td>\n",
       "    </tr>\n",
       "    <tr>\n",
       "      <th>6</th>\n",
       "      <td>004723.01</td>\n",
       "      <td>004737.01</td>\n",
       "      <td>401010.0</td>\n",
       "      <td>3.706892</td>\n",
       "    </tr>\n",
       "    <tr>\n",
       "      <th>7</th>\n",
       "      <td>002968.01</td>\n",
       "      <td>008245.01</td>\n",
       "      <td>401010.0</td>\n",
       "      <td>3.495680</td>\n",
       "    </tr>\n",
       "    <tr>\n",
       "      <th>8</th>\n",
       "      <td>004674.01</td>\n",
       "      <td>009783.01</td>\n",
       "      <td>401010.0</td>\n",
       "      <td>3.330236</td>\n",
       "    </tr>\n",
       "    <tr>\n",
       "      <th>9</th>\n",
       "      <td>005786.01</td>\n",
       "      <td>010187.01</td>\n",
       "      <td>401010.0</td>\n",
       "      <td>3.978529</td>\n",
       "    </tr>\n",
       "    <tr>\n",
       "      <th>10</th>\n",
       "      <td>009783.01</td>\n",
       "      <td>010187.01</td>\n",
       "      <td>401010.0</td>\n",
       "      <td>4.194764</td>\n",
       "    </tr>\n",
       "    <tr>\n",
       "      <th>11</th>\n",
       "      <td>010187.01</td>\n",
       "      <td>011687.01</td>\n",
       "      <td>401010.0</td>\n",
       "      <td>3.354854</td>\n",
       "    </tr>\n",
       "    <tr>\n",
       "      <th>12</th>\n",
       "      <td>010916.01</td>\n",
       "      <td>011842.01</td>\n",
       "      <td>401010.0</td>\n",
       "      <td>3.282368</td>\n",
       "    </tr>\n",
       "    <tr>\n",
       "      <th>13</th>\n",
       "      <td>011687.01</td>\n",
       "      <td>011856.01</td>\n",
       "      <td>401010.0</td>\n",
       "      <td>3.242149</td>\n",
       "    </tr>\n",
       "    <tr>\n",
       "      <th>14</th>\n",
       "      <td>010187.01</td>\n",
       "      <td>011896.01</td>\n",
       "      <td>401010.0</td>\n",
       "      <td>3.217654</td>\n",
       "    </tr>\n",
       "    <tr>\n",
       "      <th>15</th>\n",
       "      <td>002005.01</td>\n",
       "      <td>013041.01</td>\n",
       "      <td>401010.0</td>\n",
       "      <td>3.298045</td>\n",
       "    </tr>\n",
       "    <tr>\n",
       "      <th>16</th>\n",
       "      <td>010916.01</td>\n",
       "      <td>013041.01</td>\n",
       "      <td>401010.0</td>\n",
       "      <td>3.295106</td>\n",
       "    </tr>\n",
       "    <tr>\n",
       "      <th>17</th>\n",
       "      <td>013041.01</td>\n",
       "      <td>014219.01</td>\n",
       "      <td>401010.0</td>\n",
       "      <td>3.244776</td>\n",
       "    </tr>\n",
       "    <tr>\n",
       "      <th>18</th>\n",
       "      <td>004685.01</td>\n",
       "      <td>014253.01</td>\n",
       "      <td>401010.0</td>\n",
       "      <td>4.143286</td>\n",
       "    </tr>\n",
       "    <tr>\n",
       "      <th>19</th>\n",
       "      <td>004723.01</td>\n",
       "      <td>014253.01</td>\n",
       "      <td>401010.0</td>\n",
       "      <td>3.271722</td>\n",
       "    </tr>\n",
       "    <tr>\n",
       "      <th>20</th>\n",
       "      <td>004737.01</td>\n",
       "      <td>014253.01</td>\n",
       "      <td>401010.0</td>\n",
       "      <td>4.339818</td>\n",
       "    </tr>\n",
       "    <tr>\n",
       "      <th>21</th>\n",
       "      <td>014172.01</td>\n",
       "      <td>014253.01</td>\n",
       "      <td>401010.0</td>\n",
       "      <td>3.412395</td>\n",
       "    </tr>\n",
       "    <tr>\n",
       "      <th>22</th>\n",
       "      <td>014219.01</td>\n",
       "      <td>014253.01</td>\n",
       "      <td>401010.0</td>\n",
       "      <td>3.432422</td>\n",
       "    </tr>\n",
       "    <tr>\n",
       "      <th>23</th>\n",
       "      <td>004685.01</td>\n",
       "      <td>015197.01</td>\n",
       "      <td>401010.0</td>\n",
       "      <td>3.735917</td>\n",
       "    </tr>\n",
       "    <tr>\n",
       "      <th>24</th>\n",
       "      <td>004690.01</td>\n",
       "      <td>015197.01</td>\n",
       "      <td>401010.0</td>\n",
       "      <td>3.237317</td>\n",
       "    </tr>\n",
       "    <tr>\n",
       "      <th>25</th>\n",
       "      <td>004723.01</td>\n",
       "      <td>015197.01</td>\n",
       "      <td>401010.0</td>\n",
       "      <td>3.391912</td>\n",
       "    </tr>\n",
       "    <tr>\n",
       "      <th>26</th>\n",
       "      <td>014172.01</td>\n",
       "      <td>015197.01</td>\n",
       "      <td>401010.0</td>\n",
       "      <td>3.448481</td>\n",
       "    </tr>\n",
       "    <tr>\n",
       "      <th>27</th>\n",
       "      <td>014219.01</td>\n",
       "      <td>015197.01</td>\n",
       "      <td>401010.0</td>\n",
       "      <td>3.416751</td>\n",
       "    </tr>\n",
       "    <tr>\n",
       "      <th>28</th>\n",
       "      <td>014253.01</td>\n",
       "      <td>015197.01</td>\n",
       "      <td>401010.0</td>\n",
       "      <td>4.476511</td>\n",
       "    </tr>\n",
       "    <tr>\n",
       "      <th>29</th>\n",
       "      <td>011842.01</td>\n",
       "      <td>015363.01</td>\n",
       "      <td>401010.0</td>\n",
       "      <td>3.242920</td>\n",
       "    </tr>\n",
       "    <tr>\n",
       "      <th>...</th>\n",
       "      <td>...</td>\n",
       "      <td>...</td>\n",
       "      <td>...</td>\n",
       "      <td>...</td>\n",
       "    </tr>\n",
       "    <tr>\n",
       "      <th>3904</th>\n",
       "      <td>157353.01</td>\n",
       "      <td>178371.02</td>\n",
       "      <td>403010.0</td>\n",
       "      <td>3.025461</td>\n",
       "    </tr>\n",
       "    <tr>\n",
       "      <th>3905</th>\n",
       "      <td>177996.01</td>\n",
       "      <td>178371.02</td>\n",
       "      <td>403010.0</td>\n",
       "      <td>3.074012</td>\n",
       "    </tr>\n",
       "    <tr>\n",
       "      <th>3906</th>\n",
       "      <td>001274.01</td>\n",
       "      <td>178823.01</td>\n",
       "      <td>403010.0</td>\n",
       "      <td>3.051638</td>\n",
       "    </tr>\n",
       "    <tr>\n",
       "      <th>3907</th>\n",
       "      <td>013342.01</td>\n",
       "      <td>178823.01</td>\n",
       "      <td>403010.0</td>\n",
       "      <td>2.904313</td>\n",
       "    </tr>\n",
       "    <tr>\n",
       "      <th>3908</th>\n",
       "      <td>014828.01</td>\n",
       "      <td>178823.01</td>\n",
       "      <td>403010.0</td>\n",
       "      <td>2.980789</td>\n",
       "    </tr>\n",
       "    <tr>\n",
       "      <th>3909</th>\n",
       "      <td>115766.01</td>\n",
       "      <td>178823.01</td>\n",
       "      <td>403010.0</td>\n",
       "      <td>2.991697</td>\n",
       "    </tr>\n",
       "    <tr>\n",
       "      <th>3910</th>\n",
       "      <td>177996.01</td>\n",
       "      <td>179974.01</td>\n",
       "      <td>403010.0</td>\n",
       "      <td>3.024837</td>\n",
       "    </tr>\n",
       "    <tr>\n",
       "      <th>3911</th>\n",
       "      <td>178371.02</td>\n",
       "      <td>179974.01</td>\n",
       "      <td>403010.0</td>\n",
       "      <td>3.051681</td>\n",
       "    </tr>\n",
       "    <tr>\n",
       "      <th>3912</th>\n",
       "      <td>001414.02</td>\n",
       "      <td>184899.01</td>\n",
       "      <td>403010.0</td>\n",
       "      <td>3.081660</td>\n",
       "    </tr>\n",
       "    <tr>\n",
       "      <th>3913</th>\n",
       "      <td>006742.01</td>\n",
       "      <td>184899.01</td>\n",
       "      <td>403010.0</td>\n",
       "      <td>3.306668</td>\n",
       "    </tr>\n",
       "    <tr>\n",
       "      <th>3914</th>\n",
       "      <td>020935.01</td>\n",
       "      <td>184899.01</td>\n",
       "      <td>403010.0</td>\n",
       "      <td>2.942779</td>\n",
       "    </tr>\n",
       "    <tr>\n",
       "      <th>3915</th>\n",
       "      <td>156383.01</td>\n",
       "      <td>184899.01</td>\n",
       "      <td>403010.0</td>\n",
       "      <td>3.740333</td>\n",
       "    </tr>\n",
       "    <tr>\n",
       "      <th>3916</th>\n",
       "      <td>001449.01</td>\n",
       "      <td>318728.01</td>\n",
       "      <td>403010.0</td>\n",
       "      <td>3.340251</td>\n",
       "    </tr>\n",
       "    <tr>\n",
       "      <th>3917</th>\n",
       "      <td>001526.01</td>\n",
       "      <td>318728.01</td>\n",
       "      <td>403010.0</td>\n",
       "      <td>2.931587</td>\n",
       "    </tr>\n",
       "    <tr>\n",
       "      <th>3918</th>\n",
       "      <td>002558.01</td>\n",
       "      <td>318728.01</td>\n",
       "      <td>403010.0</td>\n",
       "      <td>2.993245</td>\n",
       "    </tr>\n",
       "    <tr>\n",
       "      <th>3919</th>\n",
       "      <td>003221.01</td>\n",
       "      <td>318728.01</td>\n",
       "      <td>403010.0</td>\n",
       "      <td>3.863620</td>\n",
       "    </tr>\n",
       "    <tr>\n",
       "      <th>3920</th>\n",
       "      <td>006781.01</td>\n",
       "      <td>318728.01</td>\n",
       "      <td>403010.0</td>\n",
       "      <td>2.935316</td>\n",
       "    </tr>\n",
       "    <tr>\n",
       "      <th>3921</th>\n",
       "      <td>007065.01</td>\n",
       "      <td>318728.01</td>\n",
       "      <td>403010.0</td>\n",
       "      <td>3.275085</td>\n",
       "    </tr>\n",
       "    <tr>\n",
       "      <th>3922</th>\n",
       "      <td>012909.01</td>\n",
       "      <td>318728.01</td>\n",
       "      <td>403010.0</td>\n",
       "      <td>3.411699</td>\n",
       "    </tr>\n",
       "    <tr>\n",
       "      <th>3923</th>\n",
       "      <td>014824.01</td>\n",
       "      <td>318728.01</td>\n",
       "      <td>403010.0</td>\n",
       "      <td>3.230393</td>\n",
       "    </tr>\n",
       "    <tr>\n",
       "      <th>3924</th>\n",
       "      <td>017035.01</td>\n",
       "      <td>318728.01</td>\n",
       "      <td>403010.0</td>\n",
       "      <td>3.003040</td>\n",
       "    </tr>\n",
       "    <tr>\n",
       "      <th>3925</th>\n",
       "      <td>017073.01</td>\n",
       "      <td>318728.01</td>\n",
       "      <td>403010.0</td>\n",
       "      <td>2.955238</td>\n",
       "    </tr>\n",
       "    <tr>\n",
       "      <th>3926</th>\n",
       "      <td>027652.01</td>\n",
       "      <td>318728.01</td>\n",
       "      <td>403010.0</td>\n",
       "      <td>3.245058</td>\n",
       "    </tr>\n",
       "    <tr>\n",
       "      <th>3927</th>\n",
       "      <td>027932.01</td>\n",
       "      <td>318728.01</td>\n",
       "      <td>403010.0</td>\n",
       "      <td>3.147041</td>\n",
       "    </tr>\n",
       "    <tr>\n",
       "      <th>3928</th>\n",
       "      <td>029576.01</td>\n",
       "      <td>318728.01</td>\n",
       "      <td>403010.0</td>\n",
       "      <td>3.286864</td>\n",
       "    </tr>\n",
       "    <tr>\n",
       "      <th>3929</th>\n",
       "      <td>061302.01</td>\n",
       "      <td>318728.01</td>\n",
       "      <td>403010.0</td>\n",
       "      <td>3.050557</td>\n",
       "    </tr>\n",
       "    <tr>\n",
       "      <th>3930</th>\n",
       "      <td>061408.01</td>\n",
       "      <td>318728.01</td>\n",
       "      <td>403010.0</td>\n",
       "      <td>3.145170</td>\n",
       "    </tr>\n",
       "    <tr>\n",
       "      <th>3931</th>\n",
       "      <td>061739.01</td>\n",
       "      <td>318728.01</td>\n",
       "      <td>403010.0</td>\n",
       "      <td>2.901284</td>\n",
       "    </tr>\n",
       "    <tr>\n",
       "      <th>3932</th>\n",
       "      <td>158354.01</td>\n",
       "      <td>318728.01</td>\n",
       "      <td>403010.0</td>\n",
       "      <td>3.459099</td>\n",
       "    </tr>\n",
       "    <tr>\n",
       "      <th>3933</th>\n",
       "      <td>163924.02</td>\n",
       "      <td>318728.01</td>\n",
       "      <td>403010.0</td>\n",
       "      <td>3.809363</td>\n",
       "    </tr>\n",
       "  </tbody>\n",
       "</table>\n",
       "<p>3934 rows × 4 columns</p>\n",
       "</div>"
      ],
      "text/plain": [
       "              A          B     class     score\n",
       "0     002968.01  004640.01  401010.0  4.404139\n",
       "1     003231.01  004674.01  401010.0  3.600538\n",
       "2     003231.01  004699.01  401010.0  4.296898\n",
       "3     004674.01  004699.01  401010.0  3.396330\n",
       "4     004640.01  004723.01  401010.0  3.309330\n",
       "5     003243.01  004737.01  401010.0  3.597521\n",
       "6     004723.01  004737.01  401010.0  3.706892\n",
       "7     002968.01  008245.01  401010.0  3.495680\n",
       "8     004674.01  009783.01  401010.0  3.330236\n",
       "9     005786.01  010187.01  401010.0  3.978529\n",
       "10    009783.01  010187.01  401010.0  4.194764\n",
       "11    010187.01  011687.01  401010.0  3.354854\n",
       "12    010916.01  011842.01  401010.0  3.282368\n",
       "13    011687.01  011856.01  401010.0  3.242149\n",
       "14    010187.01  011896.01  401010.0  3.217654\n",
       "15    002005.01  013041.01  401010.0  3.298045\n",
       "16    010916.01  013041.01  401010.0  3.295106\n",
       "17    013041.01  014219.01  401010.0  3.244776\n",
       "18    004685.01  014253.01  401010.0  4.143286\n",
       "19    004723.01  014253.01  401010.0  3.271722\n",
       "20    004737.01  014253.01  401010.0  4.339818\n",
       "21    014172.01  014253.01  401010.0  3.412395\n",
       "22    014219.01  014253.01  401010.0  3.432422\n",
       "23    004685.01  015197.01  401010.0  3.735917\n",
       "24    004690.01  015197.01  401010.0  3.237317\n",
       "25    004723.01  015197.01  401010.0  3.391912\n",
       "26    014172.01  015197.01  401010.0  3.448481\n",
       "27    014219.01  015197.01  401010.0  3.416751\n",
       "28    014253.01  015197.01  401010.0  4.476511\n",
       "29    011842.01  015363.01  401010.0  3.242920\n",
       "...         ...        ...       ...       ...\n",
       "3904  157353.01  178371.02  403010.0  3.025461\n",
       "3905  177996.01  178371.02  403010.0  3.074012\n",
       "3906  001274.01  178823.01  403010.0  3.051638\n",
       "3907  013342.01  178823.01  403010.0  2.904313\n",
       "3908  014828.01  178823.01  403010.0  2.980789\n",
       "3909  115766.01  178823.01  403010.0  2.991697\n",
       "3910  177996.01  179974.01  403010.0  3.024837\n",
       "3911  178371.02  179974.01  403010.0  3.051681\n",
       "3912  001414.02  184899.01  403010.0  3.081660\n",
       "3913  006742.01  184899.01  403010.0  3.306668\n",
       "3914  020935.01  184899.01  403010.0  2.942779\n",
       "3915  156383.01  184899.01  403010.0  3.740333\n",
       "3916  001449.01  318728.01  403010.0  3.340251\n",
       "3917  001526.01  318728.01  403010.0  2.931587\n",
       "3918  002558.01  318728.01  403010.0  2.993245\n",
       "3919  003221.01  318728.01  403010.0  3.863620\n",
       "3920  006781.01  318728.01  403010.0  2.935316\n",
       "3921  007065.01  318728.01  403010.0  3.275085\n",
       "3922  012909.01  318728.01  403010.0  3.411699\n",
       "3923  014824.01  318728.01  403010.0  3.230393\n",
       "3924  017035.01  318728.01  403010.0  3.003040\n",
       "3925  017073.01  318728.01  403010.0  2.955238\n",
       "3926  027652.01  318728.01  403010.0  3.245058\n",
       "3927  027932.01  318728.01  403010.0  3.147041\n",
       "3928  029576.01  318728.01  403010.0  3.286864\n",
       "3929  061302.01  318728.01  403010.0  3.050557\n",
       "3930  061408.01  318728.01  403010.0  3.145170\n",
       "3931  061739.01  318728.01  403010.0  2.901284\n",
       "3932  158354.01  318728.01  403010.0  3.459099\n",
       "3933  163924.02  318728.01  403010.0  3.809363\n",
       "\n",
       "[3934 rows x 4 columns]"
      ]
     },
     "execution_count": 10,
     "metadata": {},
     "output_type": "execute_result"
    }
   ],
   "source": [
    "pair_filter.cache['ADF']['auto_lag#None|#by#(industry|#gics_level#3|#subset#(40|))|#freq#D|#max_lag#4|#top#0.1|#window#252']['2018-04-30']"
   ]
  },
  {
   "cell_type": "code",
   "execution_count": 11,
   "metadata": {},
   "outputs": [
    {
     "data": {
      "text/plain": [
       "dict_keys(['beta', 'correlation', 'hurst', 'coint_Johansen', 'ADF'])"
      ]
     },
     "execution_count": 11,
     "metadata": {},
     "output_type": "execute_result"
    }
   ],
   "source": [
    "pair_filter.interim_result.keys()"
   ]
  },
  {
   "cell_type": "code",
   "execution_count": 12,
   "metadata": {},
   "outputs": [
    {
     "data": {
      "text/plain": [
       "dict_keys([401010.0, 401020.0, 402010.0, 402020.0, 402030.0, 402040.0, 403010.0])"
      ]
     },
     "execution_count": 12,
     "metadata": {},
     "output_type": "execute_result"
    }
   ],
   "source": [
    "pair_filter.interim_result['correlation']['by#(industry|#gics_level#3|#subset#(40|))|#corr_type#residual|#freq#D|#window#252']['2018-04-30'].keys()"
   ]
  },
  {
   "cell_type": "code",
   "execution_count": 13,
   "metadata": {},
   "outputs": [
    {
     "data": {
      "text/plain": [
       "dict_keys([401010.0, 401020.0, 402010.0, 402020.0, 402030.0, 402040.0, 403010.0])"
      ]
     },
     "execution_count": 13,
     "metadata": {},
     "output_type": "execute_result"
    }
   ],
   "source": [
    "pair_filter.interim_result['coint_Johansen']['by#(industry|#gics_level#3|#subset#(40|))|#freq#D|#k_ar_diff#4|#window#252']['2018-04-30'].keys()"
   ]
  },
  {
   "cell_type": "code",
   "execution_count": 14,
   "metadata": {},
   "outputs": [
    {
     "data": {
      "text/plain": [
       "dict_keys([401010.0, 401020.0, 402010.0, 402020.0, 402030.0, 402040.0, 403010.0])"
      ]
     },
     "execution_count": 14,
     "metadata": {},
     "output_type": "execute_result"
    }
   ],
   "source": [
    "pair_filter.interim_result['ADF']['auto_lag#None|#by#(industry|#gics_level#3|#subset#(40|))|#freq#D|#max_lag#4|#window#252']['2018-04-30'].keys()"
   ]
  },
  {
   "cell_type": "markdown",
   "metadata": {},
   "source": [
    "*5. Adjust filter conditions to start new matching processes*\n",
    "\n",
    "Note that the time consumed is **reduced** to 0.93 seconds"
   ]
  },
  {
   "cell_type": "code",
   "execution_count": 15,
   "metadata": {},
   "outputs": [],
   "source": [
    "filter_conditions = pair_filter.new_filter()\n",
    "filter_conditions.start()\n",
    "filter_conditions.industry_subset(subset=40)\n",
    "filter_conditions.same_industry(gics_level=3)\n",
    "filter_conditions.beta_diff().less_than(0.3, inclusive=True)\n",
    "filter_conditions.correlation(corr_type='residual').top(0.1).by(gics_level=3)\n",
    "filter_conditions.hurst().less_than(0.5).by(gics_level=3)\n",
    "filter_conditions.coint_Johansen().top(0.1).by(gics_level=3)\n",
    "filter_conditions.ADF().top(0.1).by(gics_level=3)\n",
    "filter_conditions.end()"
   ]
  },
  {
   "cell_type": "code",
   "execution_count": 16,
   "metadata": {},
   "outputs": [
    {
     "name": "stdout",
     "output_type": "stream",
     "text": [
      "applying \"difference of beta\" condition\n",
      "applying \"correlation\" condition\n",
      "applying \"Hurst Exponent\" condition\n",
      "applying \"Johansen cointegration test\" condition\n",
      "applying \"Augmented DF test\" condition\n",
      "time consumed: 0.93 s\n"
     ]
    }
   ],
   "source": [
    "start_time = time.time()\n",
    "pairs_dict = pair_filter.filter_given_dates(dates=dates_)\n",
    "print('time consumed: {} s'.format(round(time.time() - start_time, 2)))"
   ]
  },
  {
   "cell_type": "markdown",
   "metadata": {},
   "source": [
    "### Pair\n",
    "\n",
    "**Backtesting & visualization of arbitrary pairs**"
   ]
  },
  {
   "cell_type": "markdown",
   "metadata": {},
   "source": [
    "*1. Example A: no trade is triggered*"
   ]
  },
  {
   "cell_type": "code",
   "execution_count": 3,
   "metadata": {},
   "outputs": [],
   "source": [
    "p = Pair('001449.01', '001487.01', identified_date='2018-05-31', DataLoader=DATA)"
   ]
  },
  {
   "cell_type": "code",
   "execution_count": 4,
   "metadata": {},
   "outputs": [],
   "source": [
    "p.update_to_termination()"
   ]
  },
  {
   "cell_type": "code",
   "execution_count": 5,
   "metadata": {},
   "outputs": [
    {
     "name": "stdout",
     "output_type": "stream",
     "text": [
      "No trade is triggered during the first 21 days after this pair is identified\n"
     ]
    }
   ],
   "source": [
    "p.visualize()"
   ]
  },
  {
   "cell_type": "markdown",
   "metadata": {},
   "source": [
    "*Example B: hit mean reversion*"
   ]
  },
  {
   "cell_type": "code",
   "execution_count": 30,
   "metadata": {},
   "outputs": [
    {
     "data": {
      "image/png": "[encoded data removed]",
      "text/plain": [
       "<Figure size 720x504 with 2 Axes>"
      ]
     },
     "metadata": {
      "needs_background": "light"
     },
     "output_type": "display_data"
    }
   ],
   "source": [
    "p = Pair('004699.01', '115876.01', identified_date='2018-05-31', DataLoader=DATA)\n",
    "p.update_to_termination()\n",
    "p.visualize()"
   ]
  },
  {
   "cell_type": "code",
   "execution_count": 31,
   "metadata": {},
   "outputs": [
    {
     "name": "stdout",
     "output_type": "stream",
     "text": [
      "holding period return: 0.04569281784069246\n",
      "max drawdown: -0.010769772546286194\n",
      "max negative return: -0.005256203642499235\n"
     ]
    }
   ],
   "source": [
    "print('holding period return: {}'.format(p.performance['holding_period_return']))\n",
    "print('max drawdown: {}'.format(p.performance['mdd']))\n",
    "print('max negative return: {}'.format(p.performance['max_negative_return']))"
   ]
  },
  {
   "cell_type": "markdown",
   "metadata": {},
   "source": [
    "*Example C: reach maximum holding period*"
   ]
  },
  {
   "cell_type": "code",
   "execution_count": 32,
   "metadata": {
    "scrolled": false
   },
   "outputs": [
    {
     "data": {
      "image/png": "[encoded data removed]",
      "text/plain": [
       "<Figure size 720x504 with 2 Axes>"
      ]
     },
     "metadata": {
      "needs_background": "light"
     },
     "output_type": "display_data"
    }
   ],
   "source": [
    "p = Pair('004685.01', '139025.01', identified_date='2018-05-31', DataLoader=DATA)\n",
    "p.update_to_termination()\n",
    "p.visualize()"
   ]
  },
  {
   "cell_type": "markdown",
   "metadata": {},
   "source": [
    "### PairBacktesing\n",
    "\n",
    "**Backtesting of the entire pairs trading strategy**"
   ]
  },
  {
   "cell_type": "markdown",
   "metadata": {},
   "source": [
    "*1. Set parameters*\n",
    "\n",
    "|parameter|example value|meaning|\n",
    "|--|--|--|\n",
    "|start_date|'2017-06-30'|pair selection starts from this day|\n",
    "|end_date|'2018-05-31'|pair selection ends on this day (selected pairs are eligible for trading)|\n",
    "|identification_freq|'1M'|at which frequency should pair selection occur|\n",
    "|holding_window|'9M'|the maximum period for which an opened trade can remain open|\n",
    "|tracking_window|'1M'|the period for which any identified pair remains effective|\n",
    "|cooling_window|'5D'|the minimum interval between opening two positions involving the same pair|\n",
    "|use_half_life|True|if True, pairs eligible for trading must satisfy half life * 2 < max holding period and coefficient significant at 5% level|\n",
    "|max_reactivate_rounds|1 (default: None)|how many times a pair may trigger trades during the tracking window|\n",
    "|same_type_constraint|False|if True, two consecutive positions involving the same pair must be of different directions|\n",
    "\n"
   ]
  },
  {
   "cell_type": "code",
   "execution_count": 20,
   "metadata": {},
   "outputs": [
    {
     "name": "stdout",
     "output_type": "stream",
     "text": [
      "Automatically convert holding_window from 9M to 189D (21 days per month)\n"
     ]
    }
   ],
   "source": [
    "pair_backtest = PairBacktesting(pair_filter=pair_filter, \n",
    "                     start_date='2018-04-30', end_date='2018-05-31', \n",
    "                     identification_freq='1M', holding_window='9M', \n",
    "                     tracking_window='1M', cooling_window='1D', use_half_life=True,\n",
    "                     max_reactivate_rounds=0, same_type_constraint=False)"
   ]
  },
  {
   "cell_type": "markdown",
   "metadata": {},
   "source": [
    "*2. Run the backtesting*"
   ]
  },
  {
   "cell_type": "code",
   "execution_count": 21,
   "metadata": {},
   "outputs": [
    {
     "name": "stderr",
     "output_type": "stream",
     "text": [
      "2018-05-31: 100%|████████████████████████████████████████████████████████████████████████| 2/2 [00:00<00:00, 12.61it/s]\n"
     ]
    }
   ],
   "source": [
    "pair_backtest.run()"
   ]
  },
  {
   "cell_type": "markdown",
   "metadata": {},
   "source": [
    "*3. Get the summary table (for further analysis)*"
   ]
  },
  {
   "cell_type": "code",
   "execution_count": 26,
   "metadata": {},
   "outputs": [
    {
     "data": {
      "text/html": [
       "<div>\n",
       "<style scoped>\n",
       "    .dataframe tbody tr th:only-of-type {\n",
       "        vertical-align: middle;\n",
       "    }\n",
       "\n",
       "    .dataframe tbody tr th {\n",
       "        vertical-align: top;\n",
       "    }\n",
       "\n",
       "    .dataframe thead th {\n",
       "        text-align: right;\n",
       "    }\n",
       "</style>\n",
       "<table border=\"1\" class=\"dataframe\">\n",
       "  <thead>\n",
       "    <tr style=\"text-align: right;\">\n",
       "      <th></th>\n",
       "      <th>identified_date</th>\n",
       "      <th>type</th>\n",
       "      <th>long_leg</th>\n",
       "      <th>short_leg</th>\n",
       "      <th>open_date</th>\n",
       "      <th>close_date</th>\n",
       "      <th>exit_reason</th>\n",
       "      <th>holding_days</th>\n",
       "      <th>return</th>\n",
       "      <th>mdd</th>\n",
       "      <th>max_neg_return</th>\n",
       "    </tr>\n",
       "  </thead>\n",
       "  <tbody>\n",
       "    <tr>\n",
       "      <th>0</th>\n",
       "      <td>2018-04-30</td>\n",
       "      <td>long</td>\n",
       "      <td>002968.01</td>\n",
       "      <td>004640.01</td>\n",
       "      <td>2018-05-10</td>\n",
       "      <td>2018-05-22</td>\n",
       "      <td>reverted</td>\n",
       "      <td>8</td>\n",
       "      <td>0.049201</td>\n",
       "      <td>-0.022539</td>\n",
       "      <td>-0.022539</td>\n",
       "    </tr>\n",
       "    <tr>\n",
       "      <th>1</th>\n",
       "      <td>2018-04-30</td>\n",
       "      <td>short</td>\n",
       "      <td>006653.01</td>\n",
       "      <td>004201.01</td>\n",
       "      <td>2018-05-18</td>\n",
       "      <td>2018-11-20</td>\n",
       "      <td>reverted</td>\n",
       "      <td>129</td>\n",
       "      <td>0.004426</td>\n",
       "      <td>-0.180868</td>\n",
       "      <td>-0.146981</td>\n",
       "    </tr>\n",
       "    <tr>\n",
       "      <th>2</th>\n",
       "      <td>2018-04-30</td>\n",
       "      <td>long</td>\n",
       "      <td>004699.01</td>\n",
       "      <td>115876.01</td>\n",
       "      <td>2018-05-23</td>\n",
       "      <td>2018-06-29</td>\n",
       "      <td>reverted</td>\n",
       "      <td>26</td>\n",
       "      <td>0.028434</td>\n",
       "      <td>-0.028213</td>\n",
       "      <td>-0.022713</td>\n",
       "    </tr>\n",
       "    <tr>\n",
       "      <th>3</th>\n",
       "      <td>2018-04-30</td>\n",
       "      <td>short</td>\n",
       "      <td>025030.01</td>\n",
       "      <td>008898.01</td>\n",
       "      <td>2018-05-03</td>\n",
       "      <td>2018-06-18</td>\n",
       "      <td>reverted</td>\n",
       "      <td>31</td>\n",
       "      <td>0.039682</td>\n",
       "      <td>-0.072951</td>\n",
       "      <td>-0.068148</td>\n",
       "    </tr>\n",
       "    <tr>\n",
       "      <th>4</th>\n",
       "      <td>2018-04-30</td>\n",
       "      <td>short</td>\n",
       "      <td>114628.01</td>\n",
       "      <td>008898.01</td>\n",
       "      <td>2018-05-04</td>\n",
       "      <td>2018-10-25</td>\n",
       "      <td>reverted</td>\n",
       "      <td>121</td>\n",
       "      <td>0.067756</td>\n",
       "      <td>-0.131144</td>\n",
       "      <td>-0.131144</td>\n",
       "    </tr>\n",
       "    <tr>\n",
       "      <th>5</th>\n",
       "      <td>2018-04-30</td>\n",
       "      <td>short</td>\n",
       "      <td>011856.01</td>\n",
       "      <td>011687.01</td>\n",
       "      <td>2018-05-01</td>\n",
       "      <td>2018-07-30</td>\n",
       "      <td>reverted</td>\n",
       "      <td>62</td>\n",
       "      <td>0.020438</td>\n",
       "      <td>-0.048199</td>\n",
       "      <td>-0.043135</td>\n",
       "    </tr>\n",
       "    <tr>\n",
       "      <th>6</th>\n",
       "      <td>2018-04-30</td>\n",
       "      <td>short</td>\n",
       "      <td>114628.01</td>\n",
       "      <td>012124.01</td>\n",
       "      <td>2018-05-04</td>\n",
       "      <td>2018-08-14</td>\n",
       "      <td>reverted</td>\n",
       "      <td>70</td>\n",
       "      <td>0.043895</td>\n",
       "      <td>-0.054680</td>\n",
       "      <td>-0.054680</td>\n",
       "    </tr>\n",
       "    <tr>\n",
       "      <th>7</th>\n",
       "      <td>2018-04-30</td>\n",
       "      <td>short</td>\n",
       "      <td>014253.01</td>\n",
       "      <td>014219.01</td>\n",
       "      <td>2018-05-31</td>\n",
       "      <td>2018-07-26</td>\n",
       "      <td>reverted</td>\n",
       "      <td>39</td>\n",
       "      <td>0.057140</td>\n",
       "      <td>-0.032385</td>\n",
       "      <td>-0.003620</td>\n",
       "    </tr>\n",
       "    <tr>\n",
       "      <th>8</th>\n",
       "      <td>2018-04-30</td>\n",
       "      <td>long</td>\n",
       "      <td>014253.01</td>\n",
       "      <td>016832.01</td>\n",
       "      <td>2018-05-31</td>\n",
       "      <td>2019-01-16</td>\n",
       "      <td>reverted</td>\n",
       "      <td>158</td>\n",
       "      <td>-0.037847</td>\n",
       "      <td>-0.133748</td>\n",
       "      <td>-0.122121</td>\n",
       "    </tr>\n",
       "    <tr>\n",
       "      <th>9</th>\n",
       "      <td>2018-04-30</td>\n",
       "      <td>short</td>\n",
       "      <td>031368.01</td>\n",
       "      <td>014253.01</td>\n",
       "      <td>2018-05-18</td>\n",
       "      <td>2018-05-23</td>\n",
       "      <td>reverted</td>\n",
       "      <td>3</td>\n",
       "      <td>0.054274</td>\n",
       "      <td>0.000000</td>\n",
       "      <td>NaN</td>\n",
       "    </tr>\n",
       "    <tr>\n",
       "      <th>10</th>\n",
       "      <td>2018-04-30</td>\n",
       "      <td>long</td>\n",
       "      <td>016781.01</td>\n",
       "      <td>142088.01</td>\n",
       "      <td>2018-05-02</td>\n",
       "      <td>2018-07-09</td>\n",
       "      <td>reverted</td>\n",
       "      <td>46</td>\n",
       "      <td>0.051162</td>\n",
       "      <td>-0.051110</td>\n",
       "      <td>-0.051110</td>\n",
       "    </tr>\n",
       "    <tr>\n",
       "      <th>11</th>\n",
       "      <td>2018-04-30</td>\n",
       "      <td>short</td>\n",
       "      <td>018329.01</td>\n",
       "      <td>016845.01</td>\n",
       "      <td>2018-05-18</td>\n",
       "      <td>2018-12-17</td>\n",
       "      <td>reverted</td>\n",
       "      <td>146</td>\n",
       "      <td>-0.007279</td>\n",
       "      <td>-0.096905</td>\n",
       "      <td>-0.088194</td>\n",
       "    </tr>\n",
       "    <tr>\n",
       "      <th>12</th>\n",
       "      <td>2018-04-30</td>\n",
       "      <td>short</td>\n",
       "      <td>064547.01</td>\n",
       "      <td>018329.01</td>\n",
       "      <td>2018-05-25</td>\n",
       "      <td>2019-02-27</td>\n",
       "      <td>max.holding.days</td>\n",
       "      <td>189</td>\n",
       "      <td>-0.058690</td>\n",
       "      <td>-0.158746</td>\n",
       "      <td>-0.158746</td>\n",
       "    </tr>\n",
       "    <tr>\n",
       "      <th>13</th>\n",
       "      <td>2018-04-30</td>\n",
       "      <td>short</td>\n",
       "      <td>176351.01</td>\n",
       "      <td>063232.01</td>\n",
       "      <td>2018-05-02</td>\n",
       "      <td>2018-09-27</td>\n",
       "      <td>reverted</td>\n",
       "      <td>103</td>\n",
       "      <td>0.030576</td>\n",
       "      <td>-0.063351</td>\n",
       "      <td>-0.059595</td>\n",
       "    </tr>\n",
       "    <tr>\n",
       "      <th>14</th>\n",
       "      <td>2018-04-30</td>\n",
       "      <td>long</td>\n",
       "      <td>109621.01</td>\n",
       "      <td>137351.01</td>\n",
       "      <td>2018-05-02</td>\n",
       "      <td>2018-12-13</td>\n",
       "      <td>reverted</td>\n",
       "      <td>156</td>\n",
       "      <td>-0.016386</td>\n",
       "      <td>-0.204348</td>\n",
       "      <td>-0.199322</td>\n",
       "    </tr>\n",
       "    <tr>\n",
       "      <th>15</th>\n",
       "      <td>2018-05-31</td>\n",
       "      <td>short</td>\n",
       "      <td>139025.01</td>\n",
       "      <td>004685.01</td>\n",
       "      <td>2018-06-08</td>\n",
       "      <td>2019-03-12</td>\n",
       "      <td>max.holding.days</td>\n",
       "      <td>189</td>\n",
       "      <td>-0.196939</td>\n",
       "      <td>-0.218327</td>\n",
       "      <td>-0.213219</td>\n",
       "    </tr>\n",
       "    <tr>\n",
       "      <th>16</th>\n",
       "      <td>2018-05-31</td>\n",
       "      <td>long</td>\n",
       "      <td>004699.01</td>\n",
       "      <td>115876.01</td>\n",
       "      <td>2018-06-04</td>\n",
       "      <td>2018-06-29</td>\n",
       "      <td>reverted</td>\n",
       "      <td>19</td>\n",
       "      <td>0.045693</td>\n",
       "      <td>-0.010770</td>\n",
       "      <td>-0.005256</td>\n",
       "    </tr>\n",
       "    <tr>\n",
       "      <th>17</th>\n",
       "      <td>2018-05-31</td>\n",
       "      <td>long</td>\n",
       "      <td>006653.01</td>\n",
       "      <td>066599.01</td>\n",
       "      <td>2018-06-14</td>\n",
       "      <td>2019-01-31</td>\n",
       "      <td>reverted</td>\n",
       "      <td>158</td>\n",
       "      <td>-0.067136</td>\n",
       "      <td>-0.346232</td>\n",
       "      <td>-0.312686</td>\n",
       "    </tr>\n",
       "    <tr>\n",
       "      <th>18</th>\n",
       "      <td>2018-05-31</td>\n",
       "      <td>short</td>\n",
       "      <td>024232.01</td>\n",
       "      <td>014253.01</td>\n",
       "      <td>2018-06-26</td>\n",
       "      <td>2018-07-23</td>\n",
       "      <td>reverted</td>\n",
       "      <td>18</td>\n",
       "      <td>0.052083</td>\n",
       "      <td>-0.018137</td>\n",
       "      <td>-0.015767</td>\n",
       "    </tr>\n",
       "    <tr>\n",
       "      <th>19</th>\n",
       "      <td>2018-05-31</td>\n",
       "      <td>short</td>\n",
       "      <td>031368.01</td>\n",
       "      <td>014253.01</td>\n",
       "      <td>2018-06-26</td>\n",
       "      <td>2019-03-28</td>\n",
       "      <td>max.holding.days</td>\n",
       "      <td>189</td>\n",
       "      <td>-0.331317</td>\n",
       "      <td>-0.367973</td>\n",
       "      <td>-0.365864</td>\n",
       "    </tr>\n",
       "    <tr>\n",
       "      <th>20</th>\n",
       "      <td>2018-05-31</td>\n",
       "      <td>long</td>\n",
       "      <td>015199.01</td>\n",
       "      <td>016845.01</td>\n",
       "      <td>2018-06-06</td>\n",
       "      <td>2018-07-23</td>\n",
       "      <td>reverted</td>\n",
       "      <td>32</td>\n",
       "      <td>0.046753</td>\n",
       "      <td>-0.025971</td>\n",
       "      <td>-0.011016</td>\n",
       "    </tr>\n",
       "    <tr>\n",
       "      <th>21</th>\n",
       "      <td>2018-05-31</td>\n",
       "      <td>long</td>\n",
       "      <td>015199.01</td>\n",
       "      <td>019355.01</td>\n",
       "      <td>2018-06-08</td>\n",
       "      <td>2018-06-20</td>\n",
       "      <td>reverted</td>\n",
       "      <td>8</td>\n",
       "      <td>0.028451</td>\n",
       "      <td>-0.007526</td>\n",
       "      <td>-0.001870</td>\n",
       "    </tr>\n",
       "    <tr>\n",
       "      <th>22</th>\n",
       "      <td>2018-05-31</td>\n",
       "      <td>long</td>\n",
       "      <td>015199.01</td>\n",
       "      <td>137351.01</td>\n",
       "      <td>2018-06-15</td>\n",
       "      <td>2018-07-23</td>\n",
       "      <td>reverted</td>\n",
       "      <td>25</td>\n",
       "      <td>0.048852</td>\n",
       "      <td>-0.027308</td>\n",
       "      <td>-0.027308</td>\n",
       "    </tr>\n",
       "    <tr>\n",
       "      <th>23</th>\n",
       "      <td>2018-05-31</td>\n",
       "      <td>short</td>\n",
       "      <td>109621.01</td>\n",
       "      <td>017095.01</td>\n",
       "      <td>2018-06-19</td>\n",
       "      <td>2019-03-21</td>\n",
       "      <td>max.holding.days</td>\n",
       "      <td>189</td>\n",
       "      <td>-0.143111</td>\n",
       "      <td>-0.208156</td>\n",
       "      <td>-0.208156</td>\n",
       "    </tr>\n",
       "    <tr>\n",
       "      <th>24</th>\n",
       "      <td>2018-05-31</td>\n",
       "      <td>short</td>\n",
       "      <td>064547.01</td>\n",
       "      <td>018329.01</td>\n",
       "      <td>2018-06-07</td>\n",
       "      <td>2019-03-11</td>\n",
       "      <td>max.holding.days</td>\n",
       "      <td>189</td>\n",
       "      <td>-0.058354</td>\n",
       "      <td>-0.152218</td>\n",
       "      <td>-0.152218</td>\n",
       "    </tr>\n",
       "    <tr>\n",
       "      <th>25</th>\n",
       "      <td>2018-05-31</td>\n",
       "      <td>short</td>\n",
       "      <td>164633.01</td>\n",
       "      <td>024466.01</td>\n",
       "      <td>2018-06-15</td>\n",
       "      <td>2018-07-11</td>\n",
       "      <td>reverted</td>\n",
       "      <td>17</td>\n",
       "      <td>0.063402</td>\n",
       "      <td>-0.008663</td>\n",
       "      <td>NaN</td>\n",
       "    </tr>\n",
       "    <tr>\n",
       "      <th>26</th>\n",
       "      <td>2018-05-31</td>\n",
       "      <td>short</td>\n",
       "      <td>174313.01</td>\n",
       "      <td>061693.01</td>\n",
       "      <td>2018-06-07</td>\n",
       "      <td>2019-01-07</td>\n",
       "      <td>reverted</td>\n",
       "      <td>146</td>\n",
       "      <td>-0.003102</td>\n",
       "      <td>-0.097420</td>\n",
       "      <td>-0.095658</td>\n",
       "    </tr>\n",
       "    <tr>\n",
       "      <th>27</th>\n",
       "      <td>2018-05-31</td>\n",
       "      <td>short</td>\n",
       "      <td>139025.01</td>\n",
       "      <td>064547.01</td>\n",
       "      <td>2018-06-05</td>\n",
       "      <td>2018-08-01</td>\n",
       "      <td>reverted</td>\n",
       "      <td>40</td>\n",
       "      <td>0.058503</td>\n",
       "      <td>-0.054837</td>\n",
       "      <td>-0.021537</td>\n",
       "    </tr>\n",
       "    <tr>\n",
       "      <th>28</th>\n",
       "      <td>2018-05-31</td>\n",
       "      <td>long</td>\n",
       "      <td>109621.01</td>\n",
       "      <td>137351.01</td>\n",
       "      <td>2018-06-04</td>\n",
       "      <td>2018-12-13</td>\n",
       "      <td>reverted</td>\n",
       "      <td>134</td>\n",
       "      <td>-0.013986</td>\n",
       "      <td>-0.185142</td>\n",
       "      <td>-0.185142</td>\n",
       "    </tr>\n",
       "  </tbody>\n",
       "</table>\n",
       "</div>"
      ],
      "text/plain": [
       "   identified_date   type   long_leg  short_leg   open_date  close_date  \\\n",
       "0       2018-04-30   long  002968.01  004640.01  2018-05-10  2018-05-22   \n",
       "1       2018-04-30  short  006653.01  004201.01  2018-05-18  2018-11-20   \n",
       "2       2018-04-30   long  004699.01  115876.01  2018-05-23  2018-06-29   \n",
       "3       2018-04-30  short  025030.01  008898.01  2018-05-03  2018-06-18   \n",
       "4       2018-04-30  short  114628.01  008898.01  2018-05-04  2018-10-25   \n",
       "5       2018-04-30  short  011856.01  011687.01  2018-05-01  2018-07-30   \n",
       "6       2018-04-30  short  114628.01  012124.01  2018-05-04  2018-08-14   \n",
       "7       2018-04-30  short  014253.01  014219.01  2018-05-31  2018-07-26   \n",
       "8       2018-04-30   long  014253.01  016832.01  2018-05-31  2019-01-16   \n",
       "9       2018-04-30  short  031368.01  014253.01  2018-05-18  2018-05-23   \n",
       "10      2018-04-30   long  016781.01  142088.01  2018-05-02  2018-07-09   \n",
       "11      2018-04-30  short  018329.01  016845.01  2018-05-18  2018-12-17   \n",
       "12      2018-04-30  short  064547.01  018329.01  2018-05-25  2019-02-27   \n",
       "13      2018-04-30  short  176351.01  063232.01  2018-05-02  2018-09-27   \n",
       "14      2018-04-30   long  109621.01  137351.01  2018-05-02  2018-12-13   \n",
       "15      2018-05-31  short  139025.01  004685.01  2018-06-08  2019-03-12   \n",
       "16      2018-05-31   long  004699.01  115876.01  2018-06-04  2018-06-29   \n",
       "17      2018-05-31   long  006653.01  066599.01  2018-06-14  2019-01-31   \n",
       "18      2018-05-31  short  024232.01  014253.01  2018-06-26  2018-07-23   \n",
       "19      2018-05-31  short  031368.01  014253.01  2018-06-26  2019-03-28   \n",
       "20      2018-05-31   long  015199.01  016845.01  2018-06-06  2018-07-23   \n",
       "21      2018-05-31   long  015199.01  019355.01  2018-06-08  2018-06-20   \n",
       "22      2018-05-31   long  015199.01  137351.01  2018-06-15  2018-07-23   \n",
       "23      2018-05-31  short  109621.01  017095.01  2018-06-19  2019-03-21   \n",
       "24      2018-05-31  short  064547.01  018329.01  2018-06-07  2019-03-11   \n",
       "25      2018-05-31  short  164633.01  024466.01  2018-06-15  2018-07-11   \n",
       "26      2018-05-31  short  174313.01  061693.01  2018-06-07  2019-01-07   \n",
       "27      2018-05-31  short  139025.01  064547.01  2018-06-05  2018-08-01   \n",
       "28      2018-05-31   long  109621.01  137351.01  2018-06-04  2018-12-13   \n",
       "\n",
       "         exit_reason  holding_days    return       mdd  max_neg_return  \n",
       "0           reverted             8  0.049201 -0.022539       -0.022539  \n",
       "1           reverted           129  0.004426 -0.180868       -0.146981  \n",
       "2           reverted            26  0.028434 -0.028213       -0.022713  \n",
       "3           reverted            31  0.039682 -0.072951       -0.068148  \n",
       "4           reverted           121  0.067756 -0.131144       -0.131144  \n",
       "5           reverted            62  0.020438 -0.048199       -0.043135  \n",
       "6           reverted            70  0.043895 -0.054680       -0.054680  \n",
       "7           reverted            39  0.057140 -0.032385       -0.003620  \n",
       "8           reverted           158 -0.037847 -0.133748       -0.122121  \n",
       "9           reverted             3  0.054274  0.000000             NaN  \n",
       "10          reverted            46  0.051162 -0.051110       -0.051110  \n",
       "11          reverted           146 -0.007279 -0.096905       -0.088194  \n",
       "12  max.holding.days           189 -0.058690 -0.158746       -0.158746  \n",
       "13          reverted           103  0.030576 -0.063351       -0.059595  \n",
       "14          reverted           156 -0.016386 -0.204348       -0.199322  \n",
       "15  max.holding.days           189 -0.196939 -0.218327       -0.213219  \n",
       "16          reverted            19  0.045693 -0.010770       -0.005256  \n",
       "17          reverted           158 -0.067136 -0.346232       -0.312686  \n",
       "18          reverted            18  0.052083 -0.018137       -0.015767  \n",
       "19  max.holding.days           189 -0.331317 -0.367973       -0.365864  \n",
       "20          reverted            32  0.046753 -0.025971       -0.011016  \n",
       "21          reverted             8  0.028451 -0.007526       -0.001870  \n",
       "22          reverted            25  0.048852 -0.027308       -0.027308  \n",
       "23  max.holding.days           189 -0.143111 -0.208156       -0.208156  \n",
       "24  max.holding.days           189 -0.058354 -0.152218       -0.152218  \n",
       "25          reverted            17  0.063402 -0.008663             NaN  \n",
       "26          reverted           146 -0.003102 -0.097420       -0.095658  \n",
       "27          reverted            40  0.058503 -0.054837       -0.021537  \n",
       "28          reverted           134 -0.013986 -0.185142       -0.185142  "
      ]
     },
     "execution_count": 26,
     "metadata": {},
     "output_type": "execute_result"
    }
   ],
   "source": [
    "pair_backtest.get_summary_table()"
   ]
  },
  {
   "cell_type": "code",
   "execution_count": 27,
   "metadata": {
    "scrolled": true
   },
   "outputs": [
    {
     "data": {
      "text/plain": [
       "reverted            0.827586\n",
       "max.holding.days    0.172414\n",
       "Name: exit_reason, dtype: float64"
      ]
     },
     "execution_count": 27,
     "metadata": {},
     "output_type": "execute_result"
    }
   ],
   "source": [
    "pair_backtest.summary_table()['exit_reason'].value_counts()/len(pair_backtest.summary_table())"
   ]
  },
  {
   "cell_type": "code",
   "execution_count": 28,
   "metadata": {},
   "outputs": [
    {
     "data": {
      "text/plain": [
       "[Pair 004685.01 and 139025.01 identified at 2018-05-31,\n",
       " Pair 004699.01 and 115876.01 identified at 2018-05-31,\n",
       " Pair 006653.01 and 066599.01 identified at 2018-05-31,\n",
       " Pair 014253.01 and 024232.01 identified at 2018-05-31,\n",
       " Pair 014253.01 and 031368.01 identified at 2018-05-31,\n",
       " Pair 015199.01 and 016845.01 identified at 2018-05-31,\n",
       " Pair 015199.01 and 019355.01 identified at 2018-05-31,\n",
       " Pair 015199.01 and 137351.01 identified at 2018-05-31,\n",
       " Pair 017095.01 and 109621.01 identified at 2018-05-31,\n",
       " Pair 018329.01 and 064547.01 identified at 2018-05-31,\n",
       " Pair 024466.01 and 164633.01 identified at 2018-05-31,\n",
       " Pair 061693.01 and 174313.01 identified at 2018-05-31,\n",
       " Pair 064547.01 and 139025.01 identified at 2018-05-31,\n",
       " Pair 109621.01 and 137351.01 identified at 2018-05-31]"
      ]
     },
     "execution_count": 28,
     "metadata": {},
     "output_type": "execute_result"
    }
   ],
   "source": [
    "pair_backtest.activated_pairs['2018-05-31']"
   ]
  }
 ],
 "metadata": {
  "kernelspec": {
   "display_name": "Python 3",
   "language": "python",
   "name": "python3"
  },
  "language_info": {
   "codemirror_mode": {
    "name": "ipython",
    "version": 3
   },
   "file_extension": ".py",
   "mimetype": "text/x-python",
   "name": "python",
   "nbconvert_exporter": "python",
   "pygments_lexer": "ipython3",
   "version": "3.7.3"
  }
 },
 "nbformat": 4,
 "nbformat_minor": 2
}
